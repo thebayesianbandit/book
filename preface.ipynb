{
 "cells": [
  {
   "cell_type": "raw",
   "id": "45288ae1-b1ed-4ccf-b9e0-7f7a2a41f1ee",
   "metadata": {},
   "source": [
    "# Preface {.unnumbered}"
   ]
  },
  {
   "cell_type": "markdown",
   "id": "ba51bcb3-d18e-4de6-88a9-e1893be55d83",
   "metadata": {},
   "source": [
    "<em>Elements of Statistical Learning</em> and <em>Introduction to Statistical Learning</em> are two of the best books for becoming familiar with statistical learning, the math methodologies behind them and practical applications of said methodologies. These books are part of the motivation as to why I chose to write <em>Classic and Bayesian Statistical Methods</em>. There are an abundant of resources for learning statistical theory and practical applications of said theory. However, there are few books (if any that I know of) that cover both classic and bayesian methodologies like how <em>Elements of Statistical Learning</em> and <em>Introduction to Statistical Learning</em> illustrate statistical learning."
   ]
  },
  {
   "cell_type": "markdown",
   "id": "47e0e1a5-281d-4b4f-a05f-4dad7995ba64",
   "metadata": {},
   "source": [
    "In <em>Classic and Bayesian Statistical Methods</em>, the goal is to educate the reader of both approaches in both theory and application. The book highlights the importance of understanding the mathematical background of each approach and implementing those respective approaches in data analysis situations. This book does not attempt to be an in-depth look into the nuances of statistical theory. Rather, as the title suggests, this is an introductory book to allow readers to gain an appreciation and taste for both approaches, their usefulness, their weakness, and overall a respect for statistical methods in general. "
   ]
  },
  {
   "cell_type": "markdown",
   "id": "0cf8bb64-bd20-4da7-b3cb-fbccd70d8f50",
   "metadata": {},
   "source": [
    "In short, the hope is that this book will be a tool for all statisticians at any level. Whether you are an aspiring statistician in your first year of undergrad, or a seasoned analyst looking to view new ways of analyzing and exploring data, this book aims to be a solid foundation of the possibilities in both classic and bayesian methodologies so that you know how to best tackle your data problems."
   ]
  }
 ],
 "metadata": {
  "kernelspec": {
   "display_name": "Python 3 (ipykernel)",
   "language": "python",
   "name": "python3"
  },
  "language_info": {
   "codemirror_mode": {
    "name": "ipython",
    "version": 3
   },
   "file_extension": ".py",
   "mimetype": "text/x-python",
   "name": "python",
   "nbconvert_exporter": "python",
   "pygments_lexer": "ipython3",
   "version": "3.10.9"
  }
 },
 "nbformat": 4,
 "nbformat_minor": 5
}
