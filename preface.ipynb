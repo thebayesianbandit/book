{
 "cells": [
  {
   "cell_type": "raw",
   "id": "45288ae1-b1ed-4ccf-b9e0-7f7a2a41f1ee",
   "metadata": {},
   "source": [
    "# Preface {.unnumbered}"
   ]
  },
  {
   "cell_type": "markdown",
   "id": "2abfdc2e-5bbd-4c96-95df-2a0b75b60a64",
   "metadata": {},
   "source": [
    "Statisticians around the world have long debated the usefulness and accuracy of statistical methods. One debate that constantly arises in this realm is the classic (frequentist) vs bayesian approach. No one is safe from choosing a side, yet no one is ever harmed for using one or the other. Either side would agree that both approaches are merely approximations of reality and neither holds the complete truth. However, the difference truly lies in the philosophical approach of the individual. "
   ]
  },
  {
   "cell_type": "markdown",
   "id": "47e0e1a5-281d-4b4f-a05f-4dad7995ba64",
   "metadata": {},
   "source": [
    "In <em>Classic and Bayesian Statistical Methods</em>, the goal is to educate the reader of both approaches in both theory and application. The book highlights the importance of understanding the mathematical background of each approach and implementing those respective approaches in data analysis situations. This book does not attempt to be an in-depth look into the nuances of statistical theory. Rather, as the title suggests, this is an introductory book to allow readers to gain an appreciation and taste for both approaches, their usefulness, their weakness, and overall a respect for statistical methods in general. "
   ]
  },
  {
   "cell_type": "code",
   "execution_count": null,
   "id": "bd3cd5bd-def5-4d25-96ee-da2dfd21035f",
   "metadata": {},
   "outputs": [],
   "source": []
  }
 ],
 "metadata": {
  "kernelspec": {
   "display_name": "Python 3 (ipykernel)",
   "language": "python",
   "name": "python3"
  },
  "language_info": {
   "codemirror_mode": {
    "name": "ipython",
    "version": 3
   },
   "file_extension": ".py",
   "mimetype": "text/x-python",
   "name": "python",
   "nbconvert_exporter": "python",
   "pygments_lexer": "ipython3",
   "version": "3.10.9"
  }
 },
 "nbformat": 4,
 "nbformat_minor": 5
}
