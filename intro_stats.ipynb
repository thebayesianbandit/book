{
 "cells": [
  {
   "cell_type": "raw",
   "id": "e4a8a7b8-d9f4-468a-b7f6-02754268022f",
   "metadata": {},
   "source": [
    "---\n",
    "title: \"Introduction\"\n",
    "draft: false\n",
    "toc: true\n",
    "number-sections: false\n",
    "bibliography: references.bib\n",
    "crossref:\n",
    "    chapters: true\n",
    "format:\n",
    "    html:\n",
    "        code-fold: false\n",
    "jupyter: python3\n",
    "---"
   ]
  },
  {
   "cell_type": "markdown",
   "id": "2413b1d2-9c8e-4ed0-ad4b-d1af6e04742a",
   "metadata": {},
   "source": [
    "## Statistics: The Liar's Math"
   ]
  },
  {
   "cell_type": "markdown",
   "id": "e87714f5-4953-4952-a841-78fe4cf2bae6",
   "metadata": {},
   "source": [
    "Winston Churchill has been credited with saying \"The only statistics you can trust are those you falsified yourself\" [@church1874]. In many instances, people attribute statistics (and statisticians alike) as numbers twisted and manipulated to fit an agenda. To put it lightly, as the section title suggests, people attribute statistics as a way for liars to justify their conclusions using \"scientific\" means."
   ]
  },
  {
   "cell_type": "markdown",
   "id": "686dd6ae-3253-45d3-88ab-8424621db112",
   "metadata": {},
   "source": [
    "While there is valid proof that statistics have been weaponized in this way in the past (and present, and more than likely in the future), statistical methods are nothing more than tools. Used properly, and the statistical methods can be edifying, enlightening, and useful in solving problems. Used improperly, and you can have a dangerous tool, weaponized by ignorance and stupidity. That is why understanding statistical methods is so important. Statistics, as statistician Shane Reese puts it, is \"decision making in the presence of uncertainty\" [@byu2023]."
   ]
  },
  {
   "cell_type": "markdown",
   "id": "3cf291ad-6e18-41d2-b0df-f1fd3ee4ed45",
   "metadata": {},
   "source": [
    "## Inference: The Beauty Behind the Numbers"
   ]
  },
  {
   "cell_type": "markdown",
   "id": "8ca3fb12-95f8-4224-91a6-b60a16261363",
   "metadata": {},
   "source": [
    "One of the most important reasons why we perform statistical calculations is to gather information and arrive at conclusions or obtain answers to questions. Gathering data and observing the relationships between various data points is the art of statistics, or rather, statistical inference is the reason we perform statistical calculations. Consider the realistic but hypothetical scenario where a business is launching a new product and wants to know the most effective way to advertise said product on their website. Collecting data on how users interact with the website and the respective advertisements for the new product allow us insights into the effectiveness of the ads, thus giving us an edge on inferring how a random new website user might interact with the advertisement and subsequently purchase the product. "
   ]
  },
  {
   "cell_type": "markdown",
   "id": "7a1d617c-e00a-4934-a06b-7c2c6f11991e",
   "metadata": {},
   "source": [
    "All research questions in the end have one goal: to obtain valid statistical inference on the collected data. Without it, many find it hard to defend claims or push agendas on any solutions they propose. Therefore, the goal of this book is to help readers understand how statistical methodologies, both classic and bayesian, help people gather statistical inference and consequently, arrive at valid conclusions that drive meaningful impact in their respective careers/organizations."
   ]
  },
  {
   "cell_type": "markdown",
   "id": "ffdd295e-aaed-4c13-836c-a2ff02a37270",
   "metadata": {},
   "source": [
    "## Classic Statistical Methods"
   ]
  },
  {
   "cell_type": "markdown",
   "id": "e1cf0bff-22aa-43ce-9388-bc1a4d212aaa",
   "metadata": {},
   "source": [
    "Classic statistical methods should be the ones readers are most familiar with (assuming a given reader has taken at least an introductory statistics course). Classic statistical methods are the bread and butter of modern day data analysis and data science. Simple linear regression, analysis of variance, logistic regression, are all implementations of classic statistical methods. These methods are, mathematically speaking, simple to use and calculate, hence their rise in popularity (especially before computers/computing power became widely available). Many may also coin these methods as \"frequentist\" approaches, due to the philosophy that their is a fixed parameter of interest and the goal is to estimate said parameter from collected data from experiments/research."
   ]
  },
  {
   "cell_type": "markdown",
   "id": "fc429e8e-ca32-438d-bf5f-0cfebe390e90",
   "metadata": {},
   "source": [
    "An example of this would be examining the validity of a coin. You flip the coin X number of times and from the collected data, make conclusions/gather inference on whether or not it is a fair coin based on your experiment. There are several famous examples of classic statistical methods in the real world, such as <em>Garden Pea Experiment</em> by Gregor Mendel. All of these demonstrate the effectiveness of collecting data and performing mathematical calculations on data to arrive at valid statistical conclusions."
   ]
  },
  {
   "cell_type": "markdown",
   "id": "295a6556-97cc-4cee-a0a6-f5728df2ae9e",
   "metadata": {},
   "source": [
    "## Bayesian Statistical Methods"
   ]
  },
  {
   "cell_type": "markdown",
   "id": "86d9822a-c8aa-41c8-a12d-6c616259d5c1",
   "metadata": {},
   "source": [
    "Bayesian methods are becoming more popular in the data science age. Bayesian methods take the philosophy that the parameter of interest is a \"random\" variable, contrasting the idea of a fixed parameter from the classic approach. This provokes the idea that parameters of interest derive from a distribution of values and that a parameter of interest can have probabilites assigned to those distribution values. "
   ]
  },
  {
   "cell_type": "markdown",
   "id": "86006c85-4377-4840-93d7-5ff0e0658133",
   "metadata": {},
   "source": [
    "An example of this philosophy would be a person waiting for the bus. A person may have a notion of when the bus will arrive in some time frame (10-15 minutes) from a given time stamp. This person will generally believe that a bus will more than likely come sooner rather than later based on the time they arrive at the station. This belief of uncertainty and assigning probabilities to arrival times is the essence of bayesian methods. Bayesian methods look for the distribution and uncertainy behind parameters of interest."
   ]
  },
  {
   "cell_type": "markdown",
   "id": "25060f8a-5cf3-498b-b7b5-f4f1c8100b3d",
   "metadata": {},
   "source": [
    "## What to expect from the book"
   ]
  },
  {
   "cell_type": "markdown",
   "id": "579307e7-8328-4415-b8ff-d3fef7caace8",
   "metadata": {},
   "source": [
    "This book, as stated in the preface and sporatically in the introduction, aims to inform readers on the usefulness of both classic and bayesian statistical methods in various researchareas. Each chapter, we will cover a popular topic/method in both statistical methods and apply those methods to a dataset. The hope is that by working on a dataset and illustrating the analytical flow of each method, readers will gain a solid understanding of when to use different methods and how to apply them to their own work."
   ]
  },
  {
   "cell_type": "markdown",
   "id": "8d789563-96d3-4bfc-b97e-68bd05ff64ae",
   "metadata": {},
   "source": [
    "We do not expect readers to become experts in any one of these proposed statistical methods nor in any of the discussed topics in this book, just from this book. Rather, as the book title suggests, this book is an introduction to these methods and hopes to spark interest in the reader to pursue further research in any of the methods and topics discussed in this book. There are a plethora of resources available in the statistics and data science community to further knowledge and expertise in any one of the fields. Nonetheless, all learning begins with introductions and basics so we hope that this book will prove to be just that for you as you study this material."
   ]
  }
 ],
 "metadata": {
  "kernelspec": {
   "display_name": "Python 3 (ipykernel)",
   "language": "python",
   "name": "python3"
  },
  "language_info": {
   "codemirror_mode": {
    "name": "ipython",
    "version": 3
   },
   "file_extension": ".py",
   "mimetype": "text/x-python",
   "name": "python",
   "nbconvert_exporter": "python",
   "pygments_lexer": "ipython3",
   "version": "3.10.9"
  }
 },
 "nbformat": 4,
 "nbformat_minor": 5
}
